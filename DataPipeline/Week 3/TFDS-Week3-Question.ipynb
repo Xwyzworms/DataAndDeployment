{
 "cells": [
  {
   "cell_type": "markdown",
   "metadata": {},
   "source": [
    "# Parallelization with TFDS"
   ]
  },
  {
   "cell_type": "markdown",
   "metadata": {},
   "source": [
    "In this week's exercise, we'll go back to the classic cats versus dogs example, but instead of just naively loading the data to train a model, you will be parallelizing various stages of the Extract, Transform and Load processes. In particular, you will be performing following tasks:   \n",
    "\n",
    "1.   Parallelize the extraction of the stored TFRecords of the cats_vs_dogs dataset by using the interleave operation.\n",
    "2.   Parallelize the transformation during the preprocessing of the raw dataset by using the map operation.\n",
    "3.   Cache the processed dataset in memory by using the cache operation for faster retrieval.\n",
    "4.   Parallelize the loading of the cached dataset during the training cycle by using the prefetch operation."
   ]
  },
  {
   "cell_type": "markdown",
   "metadata": {},
   "source": [
    "## Setup"
   ]
  },
  {
   "cell_type": "code",
   "execution_count": 1,
   "metadata": {
    "colab": {},
    "colab_type": "code",
    "id": "RoPuCbDtBlYK"
   },
   "outputs": [],
   "source": [
    "import multiprocessing\n",
    "\n",
    "import tensorflow as tf\n",
    "import tensorflow_datasets as tfds\n",
    "\n",
    "from os import getcwd"
   ]
  },
  {
   "cell_type": "markdown",
   "metadata": {},
   "source": [
    "## Create and Compile the Model"
   ]
  },
  {
   "cell_type": "code",
   "execution_count": 2,
   "metadata": {
    "colab": {},
    "colab_type": "code",
    "id": "WOI6Dk_oJQEK"
   },
   "outputs": [],
   "source": [
    "def create_model():\n",
    "    input_layer = tf.keras.layers.Input(shape=(224, 224, 3))\n",
    "    base_model = tf.keras.applications.MobileNetV2(input_tensor=input_layer,\n",
    "                                                   weights='imagenet',\n",
    "                                                   include_top=False)\n",
    "    base_model.trainable = False\n",
    "    x = tf.keras.layers.GlobalAveragePooling2D()(base_model.output)\n",
    "    x = tf.keras.layers.Dense(2, activation='softmax')(x)\n",
    "    \n",
    "    model = tf.keras.models.Model(inputs=input_layer, outputs=x)\n",
    "    model.compile(optimizer='adam',\n",
    "                  loss='sparse_categorical_crossentropy',\n",
    "                  metrics=['acc'])\n",
    "    return model"
   ]
  },
  {
   "cell_type": "markdown",
   "metadata": {},
   "source": [
    "## Naive Approach\n",
    "\n",
    "Just for comparison, let's start by using the naive approach to Extract, Transform, and Load the data to train the model defined above. By naive approach we mean that we won't apply any of the new concepts of parallelization that we learned about in this module."
   ]
  },
  {
   "cell_type": "code",
   "execution_count": 3,
   "metadata": {
    "colab": {},
    "colab_type": "code",
    "id": "SPjns6UfCCSn"
   },
   "outputs": [
    {
     "name": "stderr",
     "output_type": "stream",
     "text": [
      "WARNING:absl:Found a different version 4.0.0 of dataset cats_vs_dogs in data_dir /tf/week3/../tmp2. Using currently defined version 2.0.1.\n"
     ]
    }
   ],
   "source": [
    "dataset_name = 'cats_vs_dogs'\n",
    "filePath = f\"{getcwd()}/../tmp2\"\n",
    "dataset, info = tfds.load(name=dataset_name, split=tfds.Split.TRAIN, with_info=True, data_dir=filePath)"
   ]
  },
  {
   "cell_type": "code",
   "execution_count": 4,
   "metadata": {
    "colab": {},
    "colab_type": "code",
    "id": "hN3P7OWKQLG2"
   },
   "outputs": [
    {
     "name": "stdout",
     "output_type": "stream",
     "text": [
      "2.0.1\n"
     ]
    }
   ],
   "source": [
    "print(info.version)"
   ]
  },
  {
   "cell_type": "code",
   "execution_count": 5,
   "metadata": {
    "colab": {},
    "colab_type": "code",
    "id": "I3Q7Etb8ENRG"
   },
   "outputs": [],
   "source": [
    "def preprocess(features):\n",
    "    image = features['image']\n",
    "    image = tf.image.resize(image, (224, 224))\n",
    "    image = image / 255.0\n",
    "    return image, features['label']"
   ]
  },
  {
   "cell_type": "code",
   "execution_count": 6,
   "metadata": {
    "colab": {},
    "colab_type": "code",
    "id": "sQCfvf4WENg2"
   },
   "outputs": [],
   "source": [
    "train_dataset = dataset.map(preprocess).batch(32)"
   ]
  },
  {
   "cell_type": "markdown",
   "metadata": {
    "colab": {},
    "colab_type": "code",
    "id": "8jyjiJd8Cvwc"
   },
   "source": [
    "The next step will be to train the model using the following code:\n",
    "\n",
    "```python\n",
    "model = create_model()\n",
    "model.fit(train_dataset, epochs=5)\n",
    "```\n",
    "Since we want to focus on the parallelization techniques, we won't go through the training process here, as this can take some time. "
   ]
  },
  {
   "cell_type": "markdown",
   "metadata": {
    "colab_type": "text",
    "id": "c5fzrFnXLEJW"
   },
   "source": [
    "# Parallelize Various Stages of the ETL Processes\n",
    "\n",
    "The following exercises are about parallelizing various stages of Extract, Transform and Load processes. In particular, you will be tasked with performing following tasks:   \n",
    "\n",
    "1.   Parallelize the extraction of the stored TFRecords of the cats_vs_dogs dataset by using the interleave operation.\n",
    "2.   Parallelize the transformation during the preprocessing of the raw dataset by using the map operation.\n",
    "3.   Cache the processed dataset in memory by using the cache operation for faster retrieval.\n",
    "4.   Parallelize the loading of the cached dataset during the training cycle by using the prefetch operation.\n",
    "\n",
    "We start by creating a dataset of strings corresponding to the `file_pattern` of the TFRecords of the cats_vs_dogs dataset."
   ]
  },
  {
   "cell_type": "code",
   "execution_count": 11,
   "metadata": {
    "colab": {},
    "colab_type": "code",
    "id": "S9Tqn9gALFaE"
   },
   "outputs": [
    {
     "data": {
      "text/plain": [
       "<DatasetV1Adapter shapes: (), types: tf.string>"
      ]
     },
     "execution_count": 11,
     "metadata": {},
     "output_type": "execute_result"
    }
   ],
   "source": [
    "file_pattern = f'{getcwd()}/../tmp2/{dataset_name}/{info.version}/{dataset_name}-train.tfrecord*'\n",
    "files = tf.data.Dataset.list_files(file_pattern)\n",
    "files"
   ]
  },
  {
   "cell_type": "markdown",
   "metadata": {},
   "source": [
    "Let's recall that the TFRecord format is a simple format for storing a sequence of binary records. This is very useful because by serializing the data and storing it in a set of files (100-200MB each) that can each be read linearly greatly increases the efficiency when reading the data.\n",
    "\n",
    "Since we will use it later, we should also recall that a `tf.Example` message (or protobuf) is a flexible message type that represents a `{\"string\": tf.train.Feature}` mapping."
   ]
  },
  {
   "cell_type": "markdown",
   "metadata": {
    "colab_type": "text",
    "id": "bqvYsWmVS9EW"
   },
   "source": [
    "## Parallelize Extraction\n",
    "\n",
    "In the cell below you will use the [interleave](https://www.tensorflow.org/api_docs/python/tf/data/Dataset#interleave) operation with certain [arguments](https://www.tensorflow.org/api_docs/python/tf/data/Dataset#args_38) to parallelize the extraction of the stored TFRecords of the cats_vs_dogs dataset.\n",
    "\n",
    "Recall that `tf.data.experimental.AUTOTUNE` will delegate the decision about what level of parallelism to use to the `tf.data` runtime."
   ]
  },
  {
   "cell_type": "code",
   "execution_count": 19,
   "metadata": {
    "colab": {},
    "colab_type": "code",
    "id": "2zYCJMSoSHhd"
   },
   "outputs": [
    {
     "data": {
      "text/plain": [
       "<tf.Tensor: id=387, shape=(), dtype=string, numpy=b'\\n\\xef-\\n\\x0e\\n\\x05label\\x12\\x05\\x1a\\x03\\n\\x01\\x01\\n,\\n\\x0eimage/filename\\x12\\x1a\\n\\x18\\n\\x16PetImages/Dog/3232.jpg\\n\\xae-\\n\\x05image\\x12\\xa4-\\n\\xa1-\\n\\x9e-\\xff\\xd8\\xff\\xe0\\x00\\x10JFIF\\x00\\x01\\x01\\x00\\x00\\x01\\x00\\x01\\x00\\x00\\xff\\xdb\\x00C\\x00\\x08\\x06\\x06\\x07\\x06\\x05\\x08\\x07\\x07\\x07\\t\\t\\x08\\n\\x0c\\x14\\r\\x0c\\x0b\\x0b\\x0c\\x19\\x12\\x13\\x0f\\x14\\x1d\\x1a\\x1f\\x1e\\x1d\\x1a\\x1c\\x1c $.\\' \",#\\x1c\\x1c(7),01444\\x1f\\'9=82<.342\\xff\\xdb\\x00C\\x01\\t\\t\\t\\x0c\\x0b\\x0c\\x18\\r\\r\\x182!\\x1c!22222222222222222222222222222222222222222222222222\\xff\\xc0\\x00\\x11\\x08\\x00\\xc8\\x00\\x93\\x03\\x01\"\\x00\\x02\\x11\\x01\\x03\\x11\\x01\\xff\\xc4\\x00\\x1f\\x00\\x00\\x01\\x05\\x01\\x01\\x01\\x01\\x01\\x01\\x00\\x00\\x00\\x00\\x00\\x00\\x00\\x00\\x01\\x02\\x03\\x04\\x05\\x06\\x07\\x08\\t\\n\\x0b\\xff\\xc4\\x00\\xb5\\x10\\x00\\x02\\x01\\x03\\x03\\x02\\x04\\x03\\x05\\x05\\x04\\x04\\x00\\x00\\x01}\\x01\\x02\\x03\\x00\\x04\\x11\\x05\\x12!1A\\x06\\x13Qa\\x07\"q\\x142\\x81\\x91\\xa1\\x08#B\\xb1\\xc1\\x15R\\xd1\\xf0$3br\\x82\\t\\n\\x16\\x17\\x18\\x19\\x1a%&\\'()*456789:CDEFGHIJSTUVWXYZcdefghijstuvwxyz\\x83\\x84\\x85\\x86\\x87\\x88\\x89\\x8a\\x92\\x93\\x94\\x95\\x96\\x97\\x98\\x99\\x9a\\xa2\\xa3\\xa4\\xa5\\xa6\\xa7\\xa8\\xa9\\xaa\\xb2\\xb3\\xb4\\xb5\\xb6\\xb7\\xb8\\xb9\\xba\\xc2\\xc3\\xc4\\xc5\\xc6\\xc7\\xc8\\xc9\\xca\\xd2\\xd3\\xd4\\xd5\\xd6\\xd7\\xd8\\xd9\\xda\\xe1\\xe2\\xe3\\xe4\\xe5\\xe6\\xe7\\xe8\\xe9\\xea\\xf1\\xf2\\xf3\\xf4\\xf5\\xf6\\xf7\\xf8\\xf9\\xfa\\xff\\xc4\\x00\\x1f\\x01\\x00\\x03\\x01\\x01\\x01\\x01\\x01\\x01\\x01\\x01\\x01\\x00\\x00\\x00\\x00\\x00\\x00\\x01\\x02\\x03\\x04\\x05\\x06\\x07\\x08\\t\\n\\x0b\\xff\\xc4\\x00\\xb5\\x11\\x00\\x02\\x01\\x02\\x04\\x04\\x03\\x04\\x07\\x05\\x04\\x04\\x00\\x01\\x02w\\x00\\x01\\x02\\x03\\x11\\x04\\x05!1\\x06\\x12AQ\\x07aq\\x13\"2\\x81\\x08\\x14B\\x91\\xa1\\xb1\\xc1\\t#3R\\xf0\\x15br\\xd1\\n\\x16$4\\xe1%\\xf1\\x17\\x18\\x19\\x1a&\\'()*56789:CDEFGHIJSTUVWXYZcdefghijstuvwxyz\\x82\\x83\\x84\\x85\\x86\\x87\\x88\\x89\\x8a\\x92\\x93\\x94\\x95\\x96\\x97\\x98\\x99\\x9a\\xa2\\xa3\\xa4\\xa5\\xa6\\xa7\\xa8\\xa9\\xaa\\xb2\\xb3\\xb4\\xb5\\xb6\\xb7\\xb8\\xb9\\xba\\xc2\\xc3\\xc4\\xc5\\xc6\\xc7\\xc8\\xc9\\xca\\xd2\\xd3\\xd4\\xd5\\xd6\\xd7\\xd8\\xd9\\xda\\xe2\\xe3\\xe4\\xe5\\xe6\\xe7\\xe8\\xe9\\xea\\xf2\\xf3\\xf4\\xf5\\xf6\\xf7\\xf8\\xf9\\xfa\\xff\\xda\\x00\\x0c\\x03\\x01\\x00\\x02\\x11\\x03\\x11\\x00?\\x00\\x81\\xaaY\\x07\\xfa\\x14\\'\\xfd\\xe1\\xfa\\xd4\\x0fS1\\xce\\x9d\\x17\\xfb\\xec?\\x95y]\\x19\\xd2e\\\\\\xf2\\r`\\xcf\\xc4\\xa6\\xb6\\xe6\\'\\x06\\xb1.3\\xe6\\x9e;\\xd2\\x86\\xe3\\x91\\x03UyE]\\x8e\\xday\\xff\\x00\\xd5\\xc2\\xed\\xf4\\x15/\\xf6%\\xf4\\xa3\\x88\\x80\\xf6f\\x02\\xb4\\xe6Kv%\\t=\\x91\\x84\\xcbY\\xba\\x80\\xcd\\xcc#\\xfd\\x8a\\xd6\\x99\\x1e\\x16de\\xc3\\x82A\\x06\\xb0\\xa4\\xb8i\\xaeT\\xb62\\xab\\x81\\x8a\\xeb\\xa6\\xee\\x8cd\\xac\\xcd\\x1b\\x05\\xff\\x00J\\x88\\x7f\\xb4+SP9\\xd5\\xa6\\xff\\x00z\\xb34\\xd6\\xcd\\xec#\\xfd\\xa1W\\xef\\x1bv\\xa59\\xff\\x00l\\xd2\\x97\\xc2\\x0br\\xbd\\xaf7\\xea=\\xeb\\xa8\\x89x\\xaeJ9\\xbc\\x8b\\xa5\\x93\\x19\\xc1\\xe9[P\\xeb\\x8a\\x00\\xcc\\'\\xf3\\xac\\xa5\\x16\\xf6)4\\xb77\\x90b\\xa7\\x1d+\\t5\\xe8\\xf3\\xcc\\r\\xf9\\xd4\\xcb\\xaf\\xc1\\xde\\'\\x15\\x83\\x84\\xbb\\x1a)#c\\x14m\\xac\\xc5\\xd7\\xadI\\xe5\\x1cS\\xff\\x00\\xb7,\\xfdX~\\x15<\\xb2\\xec>dhTmT\\xff\\x00\\xb6l\\x8f\\xfc\\xb4#\\xea)\\x0e\\xa9g\\xff\\x00=\\x85\\x1c\\xac.\\x8bTU_\\xed\\x1bO\\xf9\\xee\\xbf\\x9d\\x14\\xf9X\\xae\\x8d\\xd7\\xe9S\\x0et\\xc5\\xf6\\x95\\xbf\\x90\\xa8\\xa4\\x19\\x06\\xa7\\x8c\\x7f\\xc4\\xb5\\xbd\\xa6\\x1f\\xca\\x9fp2\\xb7\\x88\\xa5\\x0eT6;T\\xd0\\xa9\\xbb\\x85\\x98\\xcb\\x1a\"\\xb6\\xd4%\\x06I\\xc6j\\xbc\\xe3\\x8a\\xd1\\xb0x`\\xb5\\x8f\\x8d\\xdb\\x81<\\x8e\\xfd\\xea!f\\xf5:h\\xa6\\xe5`M9\\x8c[\\x85\\xf2\\xe7\\x19\\x00\\xa7\\x15E\\xee\\xe4\\xb7\\x94\\xab*\\xce\\xa3\\xef\\x18\\xc7J\\xd7\\x16Mp\\xb9\\xdf\\xb3\\xb8\\x18\\xfd*]7Dyb1\\xcc\\xbb\\x15\\x89.W\\xabV\\x95\\x14-\\xb1\\xd4\\xda\\xe8r\\x9a\\xed\\x9cW\\x96\\x12O\\x0f\\xfa\\xc5M\\xca\\xd8\\xea=\\ry~\\x7f{\\xf4\\x15\\xf45\\xc6\\x81n-\\xbc\\x98\\xc3\\xaa\\xfa\\x1eEq\\xb7\\xfe\\x0b\\xd2\\x9ew>KF\\x7f\\xbc\\x84\\x81\\xf9T\\xd0\\xc4*WR\\xd8\\xe6\\xaf\\x87u\\x1d\\xe2p\\x9a._Q\\x81\\x7f\\xda\\x15\\xa3s\\xff\\x00!\\t\\xf3\\xd9\\xda\\xb5\\xac\\xfc\\'-\\x86\\xad\\x04\\xd1N\\xaf\\x128b\\x1b!\\xb1\\x9a\\xbd\\'\\x85\\x8c\\xf72\\xcc\\xd7\\x1c\\xbb\\x96\\xc0_S[\\xcf\\x13I\\xc7Fr\\xc7\\rV\\xf6\\xb1\\xc6\\x13\\x9b\\x95\\\\pj\\xcf\\x96\\xaaB\\xe4f\\xba\\xbbo\\x03\\xc0\\xf7*\\xd2\\xcf#(<\\xa8Q\\xcdt\\x10h\\x9a}\\xa1!-\\xd5\\x069=O\\xebYK\\x15\\x04\\xbd\\xddM#\\x84\\x9bz\\xe8y\\xc2\\xc2\\x0fF\\x07\\xf1\\xa7\\x88H=W\\xf3\\xafB\\xb9\\xd1\\xb4\\xfb\\xa8\\xc8X\\xd07\\xa8\\x185\\xc8j\\x1aT\\x96\\x13\\x15#(z5\\x10\\xc4s\\x04\\xf0\\xce\\n\\xe6i\\x84\\x8a\\x8d\\xa2=1V\\n\\xf1Q\\x95\\xc0\\xc8\\xce+E#\\x0b\\x10\\xb2\\xb6;\\xfb\\xd3\\x08b;\\xd4\\xfbx\\xeay\\xa8\\xcaz\\x13V\\xa4+\\x11~\\x06\\x8a~\\xdfsE;\\x8a\\xc7\\xa6\\xcc\\xbbY\\xd7\\xd1\\x88\\xa7G\\xff\\x00\\x1e\\x12\\x8fGS\\xfa\\x1a\\x93P_.\\xf6\\xe5?\\xbb+\\x0f\\xd6\\xa3\\x87\\x9b9\\xc7\\xba\\x9f\\xd4\\xd73\\xdc\\xd4\\xcb\\x9f\\xee\\x9a\\x9bH\\xf9\\xe3x\\xc1\\x05\\xfc\\xc0B\\x91\\xc8\\xe3\\xa8\\xa8\\xae\\x07\\x06\\xb4\\xb4\\x0b0\\x80\\xcc\\xc3/\\'A\\xe8+\\x1b\\xe8oI>dt\\x16\\x90\\x05P\\x0f5\\xb1m\\x00\\xeaF\\x05S\\x82>\\x07\\x1fA[1\\xc6V>H\\xcf\\xbd$\\xae\\xee\\xce\\x97\\xa1J\\xea \\xd9\\xfb\\xbf\\x88\\xacK\\xbbO5H\\xc8*98\\\\V\\xec\\xcb\\xb8\\x93\\xb7 z\\xd6u\\xc3\\xe4\\x15\\xeeOOj\\x99$\\\\L\\x9b}3{\\x06\\x90`7\\xa0\\xab\\xf1\\xe9\\xa8\\xab\\xb7j\\xb0\\xf5\"\\xb4\"\\x8c\\x15\\xceH\\xc0\\xc0\\xc5=@bx\\xe6\\x97*[\\x15r\\x80\\xb2TS\\x83\\xb4\\x1e\\xd5\\xcck:m\\xf4N^\\x19\\xdf\\xca9\\'h\\xe4Wn\\xe9\\x959\\xe9\\xde\\xb3\\xe6\\x00\\x12\\x0f\"\\x9a\\xf7u%\\xb6\\xf48\\x9f\\xb1_\\xdb\\xa2\\xca\\xf3\\xf9\\x9cg\\x19\\xe4~4N~\\xd5\\x11I\\x13\\xe7Q\\xc8=k_T\\x8f\\xc8\\xc3\\xa7\\xfa\\xb2pG\\xa5b\\x99v\\\\\\xc4$nX\\xe0{V\\xd2\\xe4\\x9a\\xbctd_\\x95{\\xc6\\x1d\\xcd\\x97\\x94\\xc4\\x80vUC\\n\\x9fZ\\xda\\xd5\\x1bd\\x8608?7\\x1d\\x85f\\x81\\x9eh\\x8bv\\xd4\\xe3\\xaa\\x92\\x96\\x85F\\xb7\\x1e\\xb5\\x1b[{\\xd5\\xd6\\x14\\xd29\\xabRfv(\\x9b~h\\xab\\x98\\xa2\\xab\\x99\\x8a\\xc8\\xf4\\x1da\\xa3mV\\xe9\\xa2m\\xc8\\xd2\\x12\\rA\\x07\\xfa\\x9b\\x91\\xfe\\xc0?\\xf8\\xf0\\xa8\\x89\\xceI<\\x93R\\xdbr\\xb7\\x03\\xfe\\x99\\x7fQS\\xd4\\xa36q\\x96#\\xde\\xba\\x8d6%i\\x08\\xc7\\xca\\x98\\xe9\\\\\\xe1\\x85\\xa6\\xb8\\x11\\xa0\\xcb3V\\x95\\xf5\\xd5\\xde\\x9d\\x0b5\\xba\\x06\\xc2\\x8698\\xef\\x8a\\xc2\\xd7gM\\x05\\xb9\\xdaB\\xaaN\\xfe\\x01\\xfa\\xd3\\xda\\xf1s\\xb7h*8\\xc8\\xae\\x0bI\\xf1M\\xec\\x97b\\t\\xd0.\\xe2Wz\\x12En,\\xf2Ks\\xb9\\x1b\\x8c\\xfc\\xc0\\xd6\\xae-#x\\xc5KT\\xcd\\xf9\\xe6\\xc2\\x80\\xa3\\x86\\xe2\\xb2\\xe5\\x8f}\\xd0\\x03\\xa0\\xc0\\xab\\r0y#N2\\x06I\\x14\\x90\\xa6\\xfb\\x99\\x1b</\\x15\\x8c\\x95\\xd9\\xa4tE\\xa8\\x90l+\\xde\\x9e\\xb1n\\x1d>aH\\x8f\\xb04\\x83\\x1d{\\xd3\\xa1\\xbbY$\\x00\\x9c\\x13\\xc6=j\\x92D;\\x81L\\x0c\\x0e\\xe2\\xb3.\\x90+\\x1f@zV\\xc3\\x9c1l\\xf3Y\\x9a\\x81X\\xd4\\xbfA\\x8c\\xf3NIX\\x98\\xbdNoRfh\\x1ba\\xf9\\xb7\\n\\xbb\\xaa\\xe9v\\xb66\\xb6\\x17S@\\x92[\\xbe\\x12\\xe1\\x98r\\xb9\\xe8\\xe3\\xe9\\xfc\\xab2I<\\xd7\\xe3\\xf8\\x98\\x7f:\\xea|H\\xe8\\x9e\\x15\\xbb\\x8aL\\x0cG\\x8e\\x7fJ\\xdb\\x05\\x05)4\\xd1\\x86*VG\\x9fj\\x16?l\\xbb+\\t\\xfb\\xaa\\xc4{\\x80k\\x11\\xa1h\\xdc\\xab|\\xa4q\\x8a\\xf4\\x9d\\'\\xc3\\xaf6\\x91\\x0e\\xa1\\xe6\\xae\\xe9-\\x91\\x95q\\xea2k\\x99\\xd4\\xe0E\\xb9\\xc9Ps\\xc9\\xfa\\xd6Uc*Sqc\\x8ccV<\\xc8\\xe6\\x8a\\xf64\\xc3\\x81\\xd6\\xb6&\\xb2\\x8eF\\xe9\\xcf\\xfb<T\\r\\xa7\\xafL\\x91\\xe9\\xc5O\\xb4D<<\\xcc\\xc2\\xa3?z\\x8a\\xbct\\xe3\\x93\\xc8\\xff\\x00\\xbeh\\xa7\\xcf\\x12}\\x8c\\xfb\\x1d\\x1bt5%\\xa9\\xf9\\xe5\\x1e\\xb15D\\xe7\\x02\\xa4\\xb49\\x98\\x8fTq\\xff\\x00\\x8e\\x9a\\xd7\\xa9\\x99{B\\x8c=\\xec\\xc4\\xa8$\\x01\\x83\\xe9S\\xf8\\x9a\\xd4\\xe0\\x8c\\xe1\\x1d0j\\x1f\\x0f\\xc8\\x17Q\\x91\\x0f\\xf1(\"\\xba\\x1dj\\xdf\\xcc\\xb3I@\\xc9C\\xc8\\xf6\\xa8K\\xa9\\xd5I\\xd9#\\x87\\xd2-\\r\\xa4\\xcfp\\xf9\\x96b\\x8c\\xab\\xb5@\\xc6F2Nk^\\xd5\\xde)\\x8b\\xb7F\\xc7~\\xb54\\x16\\t3|\\x9c)\\xfb\\xdf\\xd6\\xaf\\xc5o\\x13J0\\x83\\t\\xc2\\xfbUJzX\\xeb\\x8f*Z\\x16 \\x8c\\x052\\x12\\x0b\\x9f\\xd0U\\x88\\xe31\\xc3!b\\x01f-Ue\\x97c\\x80\\xa4g \\n\\x98\\xc8\\x0b69\\xe3\\x18\\xac\\x84EupV\\xc8\\x80pq\\xd6\\xb1E\\xf9\\xb4\\x86K\\xa9\\x1aI6\\xf2\\x08\\x1c\\xd3\\xee\\xc3\\xb9\\x91NB\\xaf\\'>\\x95\\x9fp\\x1em>\\xe2\\xdfr\\xaf\\x98\\x01B9\\xc0\\x1d\\x01\\xfa\\xf3Z\\xc2)\\xee6\\xac\\xb4\\xdcd^8X\\xe7\\xdb,2\\xaf\\xcd\\x83\\xb8\\x8e\\xbe\\x9cV\\xd6\\xa1\\xa8\\xc7wh\\xa6\"He\\xdc}\\x85qVV/\\x15\\xc9i\\xe3B\\xc7!P\\x12\\xc5\\x89\\x18\\xc9&\\xbb\\x1b}<-\\x8a\\x8d\\x98\\x04\\x01\\xfa\\xf5\\xa58\\xae\\x86Z\\xab_s:\\xc57\\xdf\\xc2\\x1c|\\xa8C\\x11\\xea{V\\xa7\\x8f\\xe5\\x7f\\xec\\xa4D<L\\xc00\\xf5\\xf4\\xaasE\\xf6}P\\x81\\xd4\\xb0\\xc5Z\\xd4\\xa1}g\\xc5\\x9a}\\xa6\\t\\x8a\\x05\\x12\\xc81\\xc7\\x1f\\xfe\\xa1]\\xd9M\\xbd\\xad\\xde\\xcb_\\xb8\\xf3\\xf3\\x0b\\xf2Yn\\xf4:\\xad63i\\xa0\\xdbB~\\xf2@\\xaa~\\xa0W\\x9dj\\xd8id`:7\\xf5\\xaf@\\xd5.~\\xcbd\\xe7\\xdb\\x00z\\x9a\\xf3\\xfb\\xd0LX\\xeeNk\\x97\\x16\\xf9\\xa5s\\xa3\\n\\xac\\x8a\\x90\\xc7\\xbb\\xe6={U\\xc6\\xb4\\x12DH\\xea9\\xa6\\xdb\\xc7\\xf2\\xaeq\\xf4\\xc5iG\\x1e\\xd3\\xcfq\\\\6:\\xd9\\x86Q\\xb2xo\\xce\\x8a\\xd8\\x92\\xd9|\\xc3\\xf2QN\\xc23\\x9d\\xaa[Nn\\x90\\x1e\\xf9\\x1f\\xa1\\xa8^\\xa4\\xb4?\\xe9\\xb0\\xff\\x00\\xbe\\x05u\\xf5<\\xd1!\\xb9k;\\xc8\\xe7_\\xe1\\xc6G\\xa8\\xef]\\x83_%\\xd5\\x8a\\x04l\\xabr1\\\\D\\xfc7\\xe1ZZ-\\xc0\\x08 /\\xf3\\x86\\xde\\x17\\xdb\\xa7\\xf3\\xac\\xef\\xba6\\xa4\\xec\\xeck\\x19LJb^\\xbd\\xf1\\xde\\xad\\xc6\\x9e\\\\ \\x94\\xcbu>\\xd5gI\\xd1<\\xe47wO\\xe5\\xab\\xb6P\\x1e\\xb8\\xedW\\xef\\xde\\xc2\\x08\\xc4Bm\\xa0\\x0c\\x13\\xb7$\\xd5\\xaa2\\xb5\\xe5\\xa1\\xd3\\xedU\\xf9c\\xa9\\x8bl\\x86k\\x82\\xce~^\\xd54\\x91\\x10\\xe7r\\x1c\\x8e\\xe6\\x9fk{\\x15\\xb7\\xef]\\x03\\x03\\xc2\\x8c\\xe0V\\xe4\\x16\\xf1^Y\\x89\\x10\\xfd\\xe1\\xc7\\xb5Z\\xa4\\xa5\\x1b-\\xc5*\\x8e\\x0e\\xefc\\x9a\\x11\\t\\x1d\\xb3\\xf7O\\x06\\xb3&\\xb3KiY\\x1cd\\x03\\x91[\\x17J\\xd6\\x92:0\\xc1\\x15\\\\f\\xe9\\x97\\xa7N\\xa6\\xb0\\x8b\\xe5\\xd0\\xd1\\xc9\\xdbB\\x96\\x9b\\xa6\\x8b\\xbb\\xb2\\xfe^\\xd8\\xd7\\xf55\\xbf|\\x12\\xde\\xd8p\\x06\\x05I\\xa7\\xc6\\x90\\xda\\x92X\\x03\\x92I\\xcda\\xeb7\\xe2G\\xda\\xbfuO\\x00w5\\xa3\\xda\\xe6-\\xeag\\xa3\\xf9\\xda\\x89\\x91\\x8f\\xca\\x9f;\\x93\\xd8\\n\\xea<=b\\xd1\\xc76\\xa18\\xff\\x00H\\xba;\\x87\\x1fu\\x07\\xdd\\x1f\\xd7\\xf1\\xac\\x8d+N\\x89\\xa4\\x86\\xd2g\\x02\\xe2R\\'\\x9629\\xf2\\xc7@~\\xa7\\x1f\\x95u\\xf3\\x1d\\x90>\\xceX\\x03]\\x98u\\xec\\xa9>\\xef\\xf29*\\xbfiQvG\\'\\xac]\\x9b\\xbb\\xe6\\x8c\\x7f\\xaa\\x83\\xf5j\\xe7\\xee\\x17,\\t\\xc75\\xae\\xcaU\\x1fx\\xf9\\xd8\\xe5\\xab9\\x83I.px5\\xe7\\xd4\\x93\\x93\\xb9\\xdfN)!Q0\\x835yW\\x81\\xe9P*\\xfc\\x9c\\xe6\\xac\\xa1\\x04r{RH$\\xc8\\\\\\x90\\xe6\\x8ac\\xb9\\xdex\\xa2\\x8b\\n\\xe6CS\\xad\\xce.\\xe1>\\x8e?\\x9d1\\xa8\\x88\\xe2d>\\x8c+W\\xb9\\xe7\\x8e\\x9a\"\\xf7\\x1eX\\xeaN?Z\\xd7\\xf0\\xbd\\x8cw\\xd7\\xb7\\x0e\\xaaxq\\x1e\\xe3\\xd9\\x06\\x0f\\xeak.\\xfeah\\xd72\\xe4n]\\xc1s\\xeb\\x9a\\xe9~\\x1d\\x15\\xfe\\xc1yI\\xdc\\xe6f\\xdc\\xc7\\xa9\\xe0U\\xd2\\x874\\xb5)J\\xc6\\xa7\\x88\\xf5\\xa6\\xd3\\xd1-m\\xe3\\x0c\\xd8\\xc0\\xf6&\\xb8\\xb7\\x96\\xe8\\x96i\\x08\\x91\\x8f\\xb9\\xad\\xaf\\x12\\x86mE\\x1d\\x08%\\xc6F}}+\\x9b\\x87R\\x91\\'\\x92;\\x88\\x06\\xe58\\xc3V\\x93\\x8f;\\xb3;)>H\\xdd\\x12\\x8b\\x9b\\xa02\\xe8\\xe4\\x0e\\x83 \\xe2\\xb7tMfY&\\x8dV\\xe7\\xcb\\xc1\\x00\\xa9\\xe9\\xf9W8\\xda\\xcc\\x17\\x13\\x98\\xd6\\x12\\xa0pNx\\xa7iq\\x1b\\x8dL\\x98\\x86C8\\x04\\x8e\\x98\\xf5\\xa8Pp\\x96\\x86\\x8eJq\\xd4\\xec\\xbcP\\xec\\xb2\\xab/\\xf1\\x8c\\x9fj\\xa9f\\xfe]\\xa2\\xe0e\\x80\\xc9\\xab\\x1e +#\\xa8\\x07;S\\xd7\\x93U\\xac\\n-\\x8c\\xc6S\\x83\\xb2\\xb1\\x9e\\x95\\x19\\x9c_\\xb8\\x89\\xa7\\x9eT\\xb4\\xc2\\x1c\\x13\\x8fs\\xcfa\\xefUZ\\x1b}\\x1e\\xdf\\xfbCT9a\\xfe\\xaa,\\xe4\\xb3v\\x03\\xde\\xb1\\xd3\\xc5\\x96\\xab\\xb1\\xad\\xa2\\x9e\\xfa\\xf1\\xd8\\x85\\\\a\\x15\\x8f\\xa0\\xeak\\xa1\\xd2|;q\\xa8j\\x0b\\xabk\\x8cd\\x91W\\xf7V\\xcd\\xf7#?J\\xf4\\xa9a9\\x1ceY4\\x99\\xc1S\\x11\\xcdx\\xd3\\xdc\\xbf\\xe1\\x9d>b\\'\\xd5oW\\x17W\\xa46\\xd3\\xfc\\t\\xfc+]\\t@\\x10\\xf1\\xda\\xa5E\\x01k#\\\\\\xd4\\x1a\\xd25\\x8e2\\x0389\\xf6\\x15u\\xea&\\xdc\\xd8\\xa9SzE\\x1c\\xde\\xa4\\xc0\\xdd\\xca#9]\\xc4\\x03T\\xd2\\x0e\\x99\\xfc\\xeam\\xbb\\x98\\x93\\xc95&\\xdcG\\x9fZ\\xf2>\\'s\\xd3\\xd9X\\x84\\xae\\x06*P8>\\xa0Td\\xe5\\xfa\\x1e=i\\xc7\\x02&<\\xf3V\\x91\\r\\x90\\x05\\x07\\xb0\\xa2\\xa4E\\x1bFG4R\\xb0\\\\\\xc0cB\\x9c\\x10})\\x0fZq\\x07h\\x00rx\\x15R8J\\x9e%c\\xf3\\xa88\\xdd)\\xcdl\\xfc=\\xd46%\\xdd\\x83\\xb0\\x1b\\xf1*\\x0f|`\\xfe\\x98\\xaco\\x11\\r\\xc8\\xe7\\x83\\xf3\\x8e\\x9fJ\\xa1\\xa7\\xcd%\\xa6\\xd9b\\x0c\\xb2g;\\x81\\xab\\xa7.V\\xc4\\xce\\xd3Yo2&\\xdc~|\\xfa\\xf3\\xed\\\\\\x85\\xe4\\xf3\\x16\\xfd\\xf0\\xcf\\xcc>a\\xde\\xad\\xdd\\xebsL\\x0e\\xf4\\x1b\\xba\\x9cUX\\xe6\\x8a\\xec\\x962\\x1d\\xcb\\x8c\\xee\\x1c\\n\\xd3\\x9d_s\\xa9T\\x8b\\x8d\\x8b6\\x97\\x0e\\xbf$0\\xaaH\\xfc\\x17#\\xa7\\xd2\\xba\\x9d\\x12\\xd1`\\xb6/\\x9c\\x96\\x04z\\x9f\\\\\\xd73\\x10\\x1b\\xf0\\xce\\x9e\\xb9\\x07\"\\xba\\xcb\\x1b\\xcbxmP\\t\\x13#\\x80=\\xaa\\xa0\\xae\\xeei9\\xaeM\\t5L\\\\M\\x14A\\xf2\\xed\\xe9\\xd1Grk\\x9c\\xf1=\\xf4\\x90\\xdb\\xb4\\x16H^W]\\x8a\\x889\\xa9\\xb5\\rv(]\\xfc\\xa6\\r,\\x83j\\x81\\xd2\\xa1\\xf0\\xe5\\x95\\xcc\\xba\\xc2\\xdf^\\x9c\\xc8T\\xe1;\\x03\\xeb\\xf9V\\r\\xc3\\xda.n\\xe62\\x9bP\\xb27|\\x15\\xe1D\\xd2-b\\xba\\xbcP\\xd7\\xac\\xbcg\\xfeY\\x8ct\\x1e\\xfe\\xb5\\xdb\\xc5\\xc9\\xc0\\xaa\\xb0!*\\t\\xcf\\xd2\\xae \\xd8\\xa4\\xb7\\x02\\xbdJ\\x95eV\\\\\\xd28\\xa1\\x05\\x05d>YV\\x18Y\\xd8\\xe0(\\xcf5\\xc5^]5\\xed\\xd9\\x95\\xf1\\x8c\\xf0=\\xaa\\xfe\\xab~ng1\\xc4\\xd9\\x89x\\xe0\\xf55\\x9e\\x17\\x8e\\x9cW\\x9f^|\\xcf\\x95\\x1d\\xf4a\\xca\\xae\\xc6\\xa2d\\x93\\x9al\\xa7\\x00\\x81\\xf8T\\xccB\\xe0c\\xf0\\xa8X\\x0c\\x13\\x9ek\\x9e\\xd66\\xbd\\xc8\\xc0\\xc2\\x92z\\xf6\\xa4v\\xc2\\x05\\xf5\\xf5\\xa1\\xdbjrEV\\x92o\\x98s\\xc0\\x15Q%\\x8a\\\\\\x03\\x8c\\xd1T\\x1aR\\xccH\\xa2\\x9d\\xc5r\\xb8\\x034\\x93H\\xb0\\xda\\xdcN\\xdd\"\\x8c\\x90=X\\xf0)\\xa0\\xd6\\x7f\\x88&\\x11i\\xb0@\\t\\xdf3\\x19\\x18g\\xf8G\\x03\\xfa\\xd3j\\xec\\xe2\\xb9%\\xe9\\xf34\\x9bs\\xdd\\xa3\\x8c\\xfe\\x82\\xab\\xc7\\xb4\\x84C\\x80\\x17\\xd0\\xe74\\xe9%+\\xa3[1\\\\\\xfe\\xe9@\\x03\\xbdA\\x12<\\xb0\\xa9\\n7\\x9eN:\\nO\\xe2a\\xd0\\xb8\\xf0\\xac\\xd1\\x85\\x07\\x1c\\xe4\\x90:\\xd3,\\xf4\\xd1(g.L\\x8c\\xc7\\x198\\xc0\\xa1X\\xc7n\\\\\\xb9\\x04g\\x1fZ\\xb0\\x99\\x8a\\xdd\\x00\\xc9uL\\xed\\x00ri4\\t\\x90Kd\\xc0\\xf9q\\x15>\\xb9\\xefQ\\x16x@\\x8d\\xa4p\\x07n\\xb9\\xadx\\xd6<\\r\\xfb\\x15\\xc8\\xf5\\xe6\\xab\\xdc\\x96\\x8e\\x19<\\x95\\xfd\\xee\\x0e\\xc5\\xcex\\xa8\\xb0\\xeefY\\xdd\\xc2\\xba\\xc5\\xa9\\x98\\xa8Tv\\xceNv\\xfc\\xb8\\x1f\\xadu\\xda%\\xfa^\\xea\\x98\\x87n\\xd8\\xdb\\x93\\xbb\\xae\\x0e8\\x15\\xe5\\xd3\\xea7\\x0f/\\x96\\xf3(Ps\\x85^\\x7f:\\xea|;*B\\x91\\xca\\xf2\\x10\\xee2[\\xa5iS\\x0f\\x05(\\xcd\\x89I\\xea{T3G\\xb4m\\xa6^\\\\\\xae\\xd3\\xf3`c\\xadd\\xe9w\\x02H\\x14\\xe7\\'\\xbdI\\xa9\\xe5\\xedI\\x07\\xbf\"\\xbb\\xe5+F\\xe1\\x15v\\x8cb0\\xe5U\\xb2=i\\xec\\xc25\\xe3\\xad4\\x00\\xab\\xd2\\xa0\\x96A\\x92O\\x15\\xc0w\\x03I\\xfcD\\xd4\\x12\\\\\\x01QM6}\\x85R\\x96brs\\x8a@\\xd94\\xd7%\\x81\\x19\\xfcj\\x9c\\x97\\'\\xe6\\xc1\\x19<UynUA\\xc1\\xac\\xf4\\xba2\\xca[\\xf8s\\xc1\\xa0\\x8b\\x9b \\xae\\x07\\xcah\\xaa\\x02\\xe7\\x8e\\xb4S&\\xe5\\xb8\\xd0\\xc8\\xea\\x8b\\xd5\\x88\\x02\\xb9\\xddj\\xe0\\\\\\xeas\\x11\\xf7\\x13\\xf7i\\xf4\\x1cV\\xcd\\xc5\\xdf\\xd8\\xe0\\x92a\\xf7\\x80!~\\xa6\\xb9v$\\x8fsZ%\\xad\\xceVl\\xdbo\\x9a\\xca\\xd9\\x1b\\x0b\\x1a\\xae\\t=\\xf95\\xb1\\x05\\xacI\\x07\\x11\\xaf=\\xc0\\xaa\\x16\\x90\\x04\\x82$V\\xc8Q\\xf3}kV\\r\\xb8\\x00\\x9f\\x94\\xf75\\x9c\\xb7\\x1a)\\xdcA\\x18Q\\n\\xc4\\xa6YH\\x0b\\xc6O\\xff\\x00Z\\xa5\\x16\\xfbf,\\xe5\\x9aA\\xc1\\xf4\\xfa\\n\\x99\\xc8\\x92\\xf2\\x08\\xd5\\xb8\\x04\\xb1=\\xb8\\xff\\x00\\xf5\\xd2\\xce<\\xb3\\xb8.\\xeey$\\x9e)\\x05\\x88\\xb6\\xc6\\xe8\\x0b\\x80\\xa1s\\xc9=*\\xbc\\xe9\\x1c0}\\xa3\\xcb\\x05\"B\\xd8\\'=\\xbf\\x9dY\\x96P\\xec\\xa0C\\xf7\\x86U3\\x8c\\xe3\\xd6\\xab^L\\xd1\\xe9\\x92y\\x91\\x8f4\\xa1\\xcca\\xb2\\t\\xc7J@y\\xbc\\xa0\\xdc;\\xdc\\x05\\x00\\xb1%S\\xdb\\xda\\xbbm\\x12=\\xdaT;\\x98\\x07\\xda\\x0e=+\\x86v&B\\x1f\\x08A\\xc0\\xc7\\xf0\\xd7\\x7f\\xe1\\xe8\\xc2\\xe91n\\xe4\\xe3\\x96\\'\\xadt\\xe2>\\x14$v^\\x1f\\xbe\\\\\\x9br\\xff\\x00:\\xff\\x00*\\xd9\\xbb\\xb8%|\\xbe}s\\\\]\\xa9h.E\\xc0\\xda[\\x18 \\x03\\xc8\\xae\\xaai\\x96K$\\x7f\\xa6\\r\\x10\\x9f4-\\xd8\\xa8i$A#\\xa8\\x1e\\x95FYG$S\\xa7\\x93\\x9c\\xe7\\xf0\\xaa2HI\\xe2\\xb1\\x91\\xd8\\x86\\xca\\xe0\\xe4\\xd6m\\xd4\\xbd\\x8195nG\\xda2Mb\\xde\\xca^E\\x1d\\x03g\\x91\\xe9PL\\x98\\x9e[\\xde\\x1d\\x89\\x91\\x10\\xea\\xc7\\xf8\\x8dN,Y\\x06\\x01\\x07\\xf1\\xa8CK\\x08\\x08#%@\\xe0\\x8f\\xe5O2\\xc8F<\\xb2\\x18}\\xe1\\x9e\\x95\\xa2\\x95;\\x1c\\xceR\\xb98\\xb5$\\x0f\\x99\\x7f:*\\x1d\\xd2\\x0e\\x0f\\x07\\xebE>jay\\x15u\\xa9\\x93dP\\x83\\x969f\\xf6\\xf4\\xac\\xfbT\\xf3n\\xe2L\\x12\\x0b\\x0c\\xd4w\\x93\\x99\\xae\\xe4|\\xe4g\\x03\\xe9V\\xb4\\x98D\\xd2\\xb37A\\xc5]\\xac\\x8c\\xaet\\xc8\\x88\\xa4\\xf2\\xc7=\\xfbT\\xae\\xc8\\x84.A8\\xcf^\\xd5TK\"\\xa0Te\\xf3\\t8.\\t\\x03\\xebN\\x87t\\x91\\xb3\\xbe\\xd2\\xc1p_n\\xd0~\\x83\\xadb\\xd1I\\x87\\x98d\\xbei\\x14\\xe7\\xcbU\\x1f\\x9f?\\xe1S\\x13\\xb4\\x82\\xc3\\'$\\xe7\\xbdT\\xb1Gb\\xef\\xe6\\xa2\\xa3\\xb1\\xed\\x8cc\\x8c\\xfd*\\xc1ug`\\x84\\x9d\\x87\\xef\\xb0\\xc0?J\\x1a\\x0b\\x96br\\xad\\xe6\\x10\\xac\\xc4p\\x0faT\\xb5\\x06\\xd9f\\xed\\xe5\\x00UX\\x86\\xdb\\xcd9\\xd9\\xbeV\\x04\\x1e~l\\x9a\\x8c\\xac\\xe6ve\\x94\\xb2\\xb8\\x00\\xa3\\xf4Q\\xedJ\\xc1s\\xcc\\xc9\\x8fk\\xa3\\x96bNK\\x0e\\xc7\\xe9]\\xc6\\x87\\xb2\\xdbH]\\xf1\\xe2b\\x00\\x00\\xf5\\xc7o\\xa5r\\x1a\\xf2\\xac:\\xed\\xc0B\\n\\x86\\x04c\\xa5wZp\\x82{Hg\\x087\\x95\\x07=3\\xc5oY\\xde)\\x89n_\\x8e\\x14F-4\\xd2\\x95\\xc0\\xc8V\\xc5j\\xdb^,\\x9a{@K|\\xad\\xb9Ou\\x15\\x8eg\\x8c\\xe7r\\x95a\\x8e\\xf9\\x154\\x12\\xed\\x97\\xa6\\xd5\\'\\x18\\xe9\\x9e+\\x14\\xda./R\\xdc\\xae\\xeap\\xdc\\xfb\\xd5I&U\\xe4\\xf3W\\x82\\xf9\\xab\\xed\\x8e*\\xac\\xd6\\xea:\\x90\\x07\\xbd\\x0c\\xea(1\\x92\\xe5\\xf0\\x06\\x16\\xab\\xdf\\xc0\\x12\\xe6\\xd3\\x03\\x83\\xb8u\\xfaV\\x8bK\\x14\\nq\\xf9\\xd6E\\xcd\\xd7\\xdb/\\xa1D\\x1cFs\\x9c\\xe3\\x9a\\x96L\\xb6.(\\xd9!,q\\x8c`\\x8csJ\\xd8\\xdcF\\xee==\\xe8~\\x1b\\x820z\\xd5r\\xae$8\\x19__J\\x9b\\x1c\\xc4\\xa5Nz\\x8f\\xc4QMi\\x99N>A\\xech\\xa2\\xc0r{\\x81\\xad\\xdd1Lv\\xc9\\xc7,rsX8\\xdc\\xc1}N8\\xae\\x8e\\xd0\\x02\\x14\\x02\\xc3h\\xc1\\x1d\\xab\\xb2KC\"\\xef\\x9do\\xb8\\xc7\\x80\\xe7\\x1b\\xb6\\xbfCOi\\xc8\\xb6i\\x06\\x01U\\xcfN\\x9fJHcX\\xc3I\"\\x06-\\x80\\xa4\\x0e\\x95\\x15\\xfb\\x96\\x80FF7\\xb2\\x8e;\\x8a\\xca\\xc5\\\\\\xb1kjc\\xb3P\\xdf)\\x03/\\xbb\\x9c\\x9a\\x909e\\xdc9Q\\xf7MF\\xae\\x11\\x18\\x07b\\x08\\xe0v\\xa2)<\\xc5T\\\\*\\xaf\\x07\\x07\\x194\\x9a\\xb8\\\\\\\\\\x1f3.\\xe4\\xa8\\xec(gE\\x85I\\x97<\\xe0\\x96<\\xd5i\\x17~\\xf8\\xcbf6?t\\xf7\\xa5\\x94*\\x94Q\\x83\\x12\\xf3\\x9fCE\\x85s\\x91\\xf1\\x8d\\xbbG\\xa8\\xc7>\\xdd\\xa2D\\xed\\xed[^\\x1c\\xbe\\x12\\xe9\\x96\\xf1:\\xb1\\x03*Yz\\x0cz\\xd4~%\\xb6\\x17Z[?%\\xe3;\\x97<\\xe4VG\\x84\\xaf\\x84\\x17\\x8fn\\xe0\\x1f0|\\xb9\\x19\\xe6\\xb7K\\x9a\\x9d\\xbb\\x05\\xf5;[pC2\\xb3\\x92\\x06N\\xf6\\xe9N\\xb7\\xe2l\\xf0q\\x9eI\\xc9\\xa8\\x0c\\xb2\\x04\\nH\\xd8\\r6)\\xb3}\\x14c\\xa1\\xcf\\xd4\\x9cV\\n7)3q[\\xe4\\xc8\\'\\xe9Tew\\x96R2p*T\\x98y~\\xf5_ 9n\\xc2\\x93:\\xeeT\\xbd\\xe23\\xb9\\x88\\x00d\\xd5-:<\\xb3\\xcaxn\\xab\\xedV\\xb5\\\\%\\x9a\\xb3\\x1f\\x9av\\xda\\xab\\xed\\xebUa\\x90\\xa0\\x0b\\xc1Q\\xc2\\xf3G#0\\xa92\\xc2\\xdc\\xef\\xc8\\xda\\xc9\\x8e\\t#\\xa9\\xa8\\xcc\\xa5\\xa4!NS\\xf8\\x98\\x1e\\xa6\\x80\\xe4\\x86\\n\\x06\\xd5\\xe4\\xe7\\xa9\\xa8\\x92dV\\xc0u99<t\\xa3\\x94\\xce\\xe5\\x80\\x8f\\x8e\\x0e~\\xb4Uf\\xbc\\x841\\x1b\\x9f\\x8f@qE\\x1c\\x8c.\\x8ckE\\xf3.W\\xe6\\x03\\x1c\\xe4\\xf3]%\\xbb\\x86\\xc2\\x86\\x04c\\x96&\\x8a+y\\x19\\xa2`FT\\xef\\x18\\x07\\xa7\\xadA{;My\\x07 \\x90\\x0b\\xf4\\xe0\\x0e\\x82\\x8a*P\\xc7\\xf9\\x8d\\xb8\\x82\\xe4\\x028\\xc8\\xe9Hd\\x8dcV\\xde[\\'\\xa7P(\\xa2\\x8b\\x08\\x8fr\\xf9\\xa5\\xf3\\xdb\\x8f\\xad1&vB\\x1dU7\\x7f\\x0e9\\x14QM\\n\\xe20TR\\xa7\\x0c\\x8c0\\xd5\\xc4\\xdeD\\xfaf\\xa8\\xc5\\x0e\\x02\\xb6\\xe4>\\xa2\\x8a+J{\\x8d\\x1d|7+wk\\xe7!\\'r\\xf0\\x03w\\xab\\xfa*\\xb5\\xc5\\xfc\\x02Q\\x89\\x14\\x96#\\xafOz(\\xa5d\\xa5a&m\\\\i\\xb3$\\xac\\xd1\\x8d\\xcaO\\x03=)\\x9fb\\x91\\x06\\xe9p\\xaa:\\x8c\\xf5\\xa2\\x8a~\\xce77\\xf6\\x92\\xb1\\xcb\\xea7b\\xfbV(\\x17t0\\r\\x8b\\xc7\\x04\\xf7\\xa5\\x99\\x8a\\xe3b\\x84\\xc8\\xff\\x00&\\x8a*^\\xe6-\\xea0\\xdc\\x15L\\x03\\x8c\\x0e[\\x1c\\x9a\\x8d<\\x88\\x90\\xe1\\x0b\\x12\\xc5\\x89nz\\xfbQE+\\x05\\xc2K\\x8c9\\n\\x8cW\\xb1\\x06\\x8a(\\xa5a\\xdc\\xff\\xd9'>"
      ]
     },
     "execution_count": 19,
     "metadata": {},
     "output_type": "execute_result"
    }
   ],
   "source": [
    "# EXERCISE: Parallelize the extraction of the stored TFRecords of\n",
    "# the cats_vs_dogs dataset by using the interleave operation with\n",
    "# cycle_length = 4 and the number of parallel calls set to tf.data.experimental.AUTOTUNE.\n",
    "train_dataset = files.interleave(tf.data.TFRecordDataset,   cycle_length = 4,\n",
    "                                         num_parallel_calls = tf.data.experimental.AUTOTUNE)\n",
    "next(iter(train_dataset))"
   ]
  },
  {
   "cell_type": "markdown",
   "metadata": {
    "colab_type": "text",
    "id": "OiL5S0GdTKPK"
   },
   "source": [
    "## Parse and Decode\n",
    "\n",
    "At this point the `train_dataset` contains serialized `tf.train.Example` messages. When iterated over, it returns these as scalar string tensors. The sample output for one record is given below:\n",
    "\n",
    "```\n",
    "<tf.Tensor: id=189, shape=(), dtype=string, numpy=b'\\n\\x8f\\xc4\\x01\\n\\x0e\\n\\x05label\\x12\\x05\\x1a\\x03\\n\\x01\\x00\\n,\\n\\x0eimage/filename\\x12\\x1a\\n\\x18\\n\\x16PetImages/Cat/4159.jpg\\n\\xcd\\xc3\\x01\\n\\x05image\\x12...\\xff\\xd9'>\n",
    "```\n",
    "\n",
    "In order to be able to use these tensors to train our model, we must first parse them and decode them. We can parse and decode these string tensors by using a function. In the cell below you will create a `read_tfrecord` function that will read the serialized `tf.train.Example` messages and decode them. The function will also normalize and resize the images after they have been decoded. \n",
    "\n",
    "In order to parse the `tf.train.Example` messages we need to create a `feature_description` dictionary. We need the `feature_description` dictionary because TFDS uses graph-execution and therefore, needs this description to build their shape and type signature. The basic structure of the `feature_description` dictionary looks like this:\n",
    "\n",
    "```python\n",
    "feature_description = {'feature': tf.io.FixedLenFeature([], tf.Dtype, default_value)}\n",
    "```\n",
    "\n",
    "The number of features in your `feature_description` dictionary will vary depending on your dataset. In our particular case, the features are `'image'` and `'label'` and can be seen in the sample output of the string tensor above. Therefore, our `feature_description` dictionary will look like this:\n",
    "\n",
    "```python\n",
    "feature_description = {\n",
    "    'image': tf.io.FixedLenFeature((), tf.string, \"\"),\n",
    "    'label': tf.io.FixedLenFeature((), tf.int64, -1),\n",
    "}\n",
    "```\n",
    "\n",
    "where we have given the default values of `\"\"` and `-1` to the `'image'` and `'label'` respectively.\n",
    "\n",
    "The next step will be to parse the serialized `tf.train.Example` message using the `feature_description` dictionary given above. This can be done with the following code:\n",
    "\n",
    "```python\n",
    "example = tf.io.parse_single_example(serialized_example, feature_description)\n",
    "```\n",
    "\n",
    "Finally, we can decode the image by using:\n",
    "\n",
    "```python\n",
    "image = tf.io.decode_jpeg(example['image'], channels=3)\n",
    "```\n",
    "\n",
    "Use the code given above to complete the exercise below."
   ]
  },
  {
   "cell_type": "code",
   "execution_count": 20,
   "metadata": {
    "colab": {},
    "colab_type": "code",
    "id": "5iWEqIYQSYgN"
   },
   "outputs": [],
   "source": [
    "# EXERCISE: Fill in the missing code below.\n",
    "\n",
    "def read_tfrecord(serialized_example):\n",
    "    \n",
    "    # Create the feature description dictionary\n",
    "    feature_description = {\n",
    "        'image': tf.io.FixedLenFeature((),tf.string,\"\"),\n",
    "        'label': tf.io.FixedLenFeature((),tf.int64,-1),\n",
    "    }\n",
    "    # Parse the serialized_example and decode the image\n",
    "    example = tf.io.parse_single_example(serialized_example,feature_description)\n",
    "    image = tf.io.decode_jpeg(example[\"image\"],channels=3)\n",
    "    \n",
    "    image = tf.cast(image, tf.float32)\n",
    "    \n",
    "    # Normalize the pixels in the image\n",
    "    image = image / 255.0\n",
    "    \n",
    "    # Resize the image to (224, 224) using tf.image.resize\n",
    "    image = tf.image.resize(image,size=(224,224))\n",
    "    \n",
    "    return image, example['label']"
   ]
  },
  {
   "cell_type": "markdown",
   "metadata": {},
   "source": [
    "## Parallelize Transformation\n",
    "\n",
    "You can now apply the `read_tfrecord` function to each item in the `train_dataset` by using the `map` method. You can parallelize the transformation of the `train_dataset` by using the `map` method with the `num_parallel_calls` set to the number of CPU cores."
   ]
  },
  {
   "cell_type": "code",
   "execution_count": 21,
   "metadata": {
    "colab": {},
    "colab_type": "code",
    "id": "mRFO7n7odLTk"
   },
   "outputs": [
    {
     "name": "stdout",
     "output_type": "stream",
     "text": [
      "96\n"
     ]
    }
   ],
   "source": [
    "# EXERCISE: Fill in the missing code below.\n",
    "\n",
    "# Get the number of CPU cores. \n",
    "cores = multiprocessing.cpu_count()\n",
    "\n",
    "print(cores)\n",
    "\n",
    "# Parallelize the transformation of the train_dataset by using\n",
    "# the map operation with the number of parallel calls set to\n",
    "# the number of CPU cores.\n",
    "train_dataset = train_dataset.map(read_tfrecord,num_parallel_calls=cores)"
   ]
  },
  {
   "cell_type": "markdown",
   "metadata": {
    "colab_type": "text",
    "id": "43XLYAvGTsew"
   },
   "source": [
    "## Cache the Dataset"
   ]
  },
  {
   "cell_type": "code",
   "execution_count": 22,
   "metadata": {
    "colab": {},
    "colab_type": "code",
    "id": "D0zWUJ3gTuRx"
   },
   "outputs": [],
   "source": [
    "# EXERCISE: Cache the train_dataset in-memory.\n",
    "train_dataset = train_dataset.cache()"
   ]
  },
  {
   "cell_type": "markdown",
   "metadata": {
    "colab_type": "text",
    "id": "KhpFlwM8TTxO"
   },
   "source": [
    "## Parallelize Loading"
   ]
  },
  {
   "cell_type": "code",
   "execution_count": 24,
   "metadata": {
    "colab": {},
    "colab_type": "code",
    "id": "FdZ-aTECSE2a"
   },
   "outputs": [],
   "source": [
    "# EXERCISE: Fill in the missing code below.\n",
    "\n",
    "# Shuffle and batch the train_dataset. Use a buffer size of 1024\n",
    "# for shuffling and a batch size 32 for batching. \n",
    "train_dataset = train_dataset.shuffle(1024).batch(32)\n",
    "\n",
    "# Parallelize the loading by prefetching the train_dataset.\n",
    "# Set the prefetching buffer size to tf.data.experimental.AUTOTUNE.\n",
    "train_dataset = train_dataset.prefetch(tf.data.experimental.AUTOTUNE)"
   ]
  },
  {
   "cell_type": "markdown",
   "metadata": {
    "colab": {},
    "colab_type": "code",
    "id": "zSMpkNrbLFoa"
   },
   "source": [
    "The next step will be to train your model using the following code:\n",
    "\n",
    "```python\n",
    "model = create_model()\n",
    "model.fit(train_dataset, epochs=5)\n",
    "```\n",
    "We won't go through the training process here as this can take some time. However, due to the parallelization of the various stages of the ETL processes, you should see a decrease in training time as compared to the naive approach depicted at beginning of the notebook."
   ]
  },
  {
   "cell_type": "markdown",
   "metadata": {},
   "source": [
    "# Submission Instructions"
   ]
  },
  {
   "cell_type": "code",
   "execution_count": null,
   "metadata": {
    "colab": {},
    "colab_type": "code",
    "id": "uJPiA98oPfrg"
   },
   "outputs": [],
   "source": [
    "# Now click the 'Submit Assignment' button above."
   ]
  },
  {
   "cell_type": "markdown",
   "metadata": {},
   "source": [
    "# When you're done or would like to take a break, please run the two cells below to save your work and close the Notebook. This frees up resources for your fellow learners."
   ]
  },
  {
   "cell_type": "code",
   "execution_count": null,
   "metadata": {},
   "outputs": [],
   "source": [
    "%%javascript\n",
    "<!-- Save the notebook -->\n",
    "IPython.notebook.save_checkpoint();"
   ]
  },
  {
   "cell_type": "code",
   "execution_count": null,
   "metadata": {},
   "outputs": [],
   "source": [
    "%%javascript\n",
    "<!-- Shutdown and close the notebook -->\n",
    "window.onbeforeunload = null\n",
    "window.close();\n",
    "IPython.notebook.session.delete();"
   ]
  }
 ],
 "metadata": {
  "accelerator": "GPU",
  "colab": {
   "collapsed_sections": [],
   "machine_shape": "hm",
   "name": "Module3 Exercise-Question.ipynb",
   "provenance": [],
   "toc_visible": true
  },
  "coursera": {
   "course_slug": "data-pipelines-tensorflow",
   "graded_item_id": "PPCTl",
   "launcher_item_id": "84r9D"
  },
  "kernelspec": {
   "display_name": "Python 3",
   "language": "python",
   "name": "python3"
  },
  "language_info": {
   "codemirror_mode": {
    "name": "ipython",
    "version": 3
   },
   "file_extension": ".py",
   "mimetype": "text/x-python",
   "name": "python",
   "nbconvert_exporter": "python",
   "pygments_lexer": "ipython3",
   "version": "3.6.8"
  }
 },
 "nbformat": 4,
 "nbformat_minor": 1
}
